{
 "cells": [
  {
   "cell_type": "markdown",
   "metadata": {},
   "source": [
    "# Overview\n",
    "\n",
    "This example shows how to extract a time series of images from Earth Engine, annotate them, and save them as a video."
   ]
  },
  {
   "cell_type": "markdown",
   "metadata": {},
   "source": [
    "# Initialize Earth Engine\n",
    "\n",
    "We start by importing the [Earth Engine Python API](https://pypi.org/project/earthengine-api/) module."
   ]
  },
  {
   "cell_type": "code",
   "execution_count": null,
   "metadata": {},
   "outputs": [],
   "source": [
    "import ee"
   ]
  },
  {
   "cell_type": "markdown",
   "metadata": {},
   "source": [
    "The following command initializes the Earth Engine Python API."
   ]
  },
  {
   "cell_type": "code",
   "execution_count": null,
   "metadata": {},
   "outputs": [],
   "source": [
    "ee.Initialize()"
   ]
  },
  {
   "cell_type": "markdown",
   "metadata": {},
   "source": [
    "If the cell produces output that displays an error about needing to authenticate, open up the notebook entitled `01 - Setup auth credentials` and follow the instructions."
   ]
  },
  {
   "cell_type": "markdown",
   "metadata": {},
   "source": [
    "# Define Helper Functions"
   ]
  },
  {
   "cell_type": "code",
   "execution_count": null,
   "metadata": {},
   "outputs": [],
   "source": [
    "def GetTileLayerUrl(ee_image_object):\n",
    "    map_id = ee.Image(ee_image_object).getMapId()\n",
    "    tile_url_template = \"https://earthengine.googleapis.com/map/{mapid}/{{z}}/{{x}}/{{y}}?token={token}\"\n",
    "    return tile_url_template.format(**map_id)"
   ]
  },
  {
   "cell_type": "markdown",
   "metadata": {},
   "source": [
    "# Building an User Interface"
   ]
  },
  {
   "cell_type": "code",
   "execution_count": null,
   "metadata": {},
   "outputs": [],
   "source": [
    "import datetime\n",
    "import ipywidgets as widgets\n",
    "import ipyleaflet  # an interactive mapping \"widget\""
   ]
  },
  {
   "cell_type": "markdown",
   "metadata": {},
   "source": [
    "## Define the Dataset to work with."
   ]
  },
  {
   "cell_type": "code",
   "execution_count": null,
   "metadata": {},
   "outputs": [],
   "source": [
    "datasets = [\n",
    "    {\n",
    "        'name':'Landsat 8 Collection 1 TOA',\n",
    "        'base_collection':(\n",
    "            ee.ImageCollection('LANDSAT/LC08/C01/T1_RT_TOA')\n",
    "              .select(['B4','B3','B2'])\n",
    "        ),\n",
    "        'vis_params':{\n",
    "            'min':0,\n",
    "            'max':0.3,\n",
    "        },\n",
    "    },\n",
    "    {\n",
    "        'name':'Sentinel-1 GRD HV (radar)',\n",
    "        'base_collection':(\n",
    "            ee.ImageCollection('COPERNICUS/S1_GRD')\n",
    "              .filter(ee.Filter.listContains('transmitterReceiverPolarisation', 'HV'))\n",
    "              .select(['HV'])\n",
    "        ),\n",
    "        'vis_params':{\n",
    "            'min':-30,\n",
    "            'max':-10,\n",
    "        },\n",
    "    },\n",
    "    {\n",
    "        'name':'Sentinel-1 GRD HH (radar)',\n",
    "        'base_collection':(\n",
    "            ee.ImageCollection('COPERNICUS/S1_GRD')\n",
    "              .filter(ee.Filter.listContains('transmitterReceiverPolarisation', 'HH'))\n",
    "              .select(['HH'])\n",
    "        ),\n",
    "        'vis_params':{\n",
    "            'min':-25,\n",
    "            'max':0,\n",
    "        },\n",
    "    },\n",
    "    {\n",
    "        'name':'Sentinel-1 GRD VV (radar)',\n",
    "        'base_collection':(\n",
    "            ee.ImageCollection('COPERNICUS/S1_GRD')\n",
    "              .filter(ee.Filter.listContains('transmitterReceiverPolarisation', 'VV'))\n",
    "              .select(['VV'])\n",
    "        ),\n",
    "        'vis_params':{\n",
    "            'min':-25,\n",
    "            'max':0,\n",
    "        },\n",
    "    },\n",
    "    {\n",
    "        'name':'Sentinel-1 GRD VH (radar)',\n",
    "        'base_collection':(\n",
    "            ee.ImageCollection('COPERNICUS/S1_GRD')\n",
    "              .filter(ee.Filter.listContains('transmitterReceiverPolarisation', 'VH'))\n",
    "              .select(['VH'])\n",
    "        ),\n",
    "        'vis_params':{\n",
    "            'min':-25,\n",
    "            'max':0,\n",
    "        },\n",
    "    }\n",
    "]"
   ]
  },
  {
   "cell_type": "code",
   "execution_count": null,
   "metadata": {},
   "outputs": [],
   "source": [
    "def get_dataset_dropdown_dict():\n",
    "    return dict([(datasets[i]['name'],i) for i in range(len(datasets))])\n",
    "\n",
    "def get_base_collection():\n",
    "    return datasets[dataset_dropdown.index]['base_collection']\n",
    "\n",
    "def get_vis_params():\n",
    "    return datasets[dataset_dropdown.index]['vis_params']"
   ]
  },
  {
   "cell_type": "markdown",
   "metadata": {},
   "source": [
    "## Define User Interface Elements"
   ]
  },
  {
   "cell_type": "code",
   "execution_count": null,
   "metadata": {},
   "outputs": [],
   "source": [
    "roi_dimension = widgets.IntSlider(\n",
    "    value=1e4,\n",
    "    min=1e2,\n",
    "    max=2e4,\n",
    "    description='ROI Size (m):',\n",
    "    continuous_update=False,\n",
    ")\n",
    "roi_dimension"
   ]
  },
  {
   "cell_type": "code",
   "execution_count": null,
   "metadata": {},
   "outputs": [],
   "source": [
    "# Define the map.\n",
    "map1 = ipyleaflet.Map(\n",
    "    center=(81.55303991947001, -45.57952880859376),\n",
    "    zoom=8,\n",
    "    layout={\n",
    "        'height':'300px',\n",
    "        'min_height':'200px',\n",
    "        'min_width':'200px'\n",
    "    },\n",
    ")\n",
    "map1.add_control(ipyleaflet.LayersControl())\n",
    "\n",
    "# Define and add a Marker pin to the map.\n",
    "center_marker = ipyleaflet.Marker(\n",
    "    name='ROI Selection Marker',\n",
    "    location=map1.center\n",
    ")\n",
    "map1 += center_marker\n",
    "\n",
    "mosaic_layer_group = ipyleaflet.LayerGroup(layers=(), name='Mosaic Layer')\n",
    "map1 += mosaic_layer_group\n",
    "\n",
    "roi_layer_group = ipyleaflet.LayerGroup(layers=(), name='ROI Layer')\n",
    "map1 += roi_layer_group\n",
    "map1"
   ]
  },
  {
   "cell_type": "code",
   "execution_count": null,
   "metadata": {},
   "outputs": [],
   "source": [
    "dataset_dropdown = widgets.Dropdown(\n",
    "    options=get_dataset_dropdown_dict(),\n",
    "    description='Dataset:',\n",
    "    style={'description_width': 'initial'},\n",
    "    layout=widgets.Layout(width='300px')\n",
    ")\n",
    "dataset_dropdown"
   ]
  },
  {
   "cell_type": "code",
   "execution_count": null,
   "metadata": {},
   "outputs": [],
   "source": [
    "start_datepicker = widgets.DatePicker(\n",
    "    description='Start Date:',\n",
    "    disabled=False,\n",
    "    value=datetime.datetime(2017, 8, 8),\n",
    "    style={'description_width': 'initial'},\n",
    "    layout=widgets.Layout(width='240px')\n",
    ")\n",
    "start_datepicker"
   ]
  },
  {
   "cell_type": "code",
   "execution_count": null,
   "metadata": {},
   "outputs": [],
   "source": [
    "interval_length_dropdown = widgets.IntSlider(\n",
    "    value=5,\n",
    "    min=1,\n",
    "    max=32,\n",
    "    description='Interval Length [days]:',\n",
    "    style={'description_width': 'initial'},\n",
    "    #layout=widgets.Layout(width='200px'),\n",
    "    continuous_update=False,\n",
    ")\n",
    "interval_length_dropdown"
   ]
  },
  {
   "cell_type": "code",
   "execution_count": null,
   "metadata": {},
   "outputs": [],
   "source": [
    "num_intervals_slider = widgets.IntSlider(\n",
    "    value=5,\n",
    "    min=1,\n",
    "    max=25,\n",
    "    description='# intervals:',\n",
    "    style={'description_width': 'initial'},\n",
    "    continuous_update=False,\n",
    ")\n",
    "num_intervals_slider"
   ]
  },
  {
   "cell_type": "code",
   "execution_count": null,
   "metadata": {},
   "outputs": [],
   "source": [
    "# Define an output widget (mainly for debugging messages)\n",
    "out = widgets.Output()\n",
    "out.clear_output()\n",
    "out"
   ]
  },
  {
   "cell_type": "markdown",
   "metadata": {},
   "source": [
    "## Display the UI Elements"
   ]
  },
  {
   "cell_type": "code",
   "execution_count": null,
   "metadata": {},
   "outputs": [],
   "source": [
    "# Layout the UI elements.\n",
    "panel = widgets.Box(\n",
    "    [\n",
    "        map1,\n",
    "        widgets.VBox([\n",
    "            dataset_dropdown,\n",
    "            start_datepicker,\n",
    "            interval_length_dropdown,\n",
    "            num_intervals_slider,\n",
    "            roi_dimension,\n",
    "            #out\n",
    "        ])\n",
    "    ],\n",
    "    layout=widgets.Layout(\n",
    "        display='flex',\n",
    "        flex_flow='row',\n",
    "        flex_wrap='wrap'\n",
    "    )\n",
    ")\n",
    "display(panel)"
   ]
  },
  {
   "cell_type": "markdown",
   "metadata": {},
   "source": [
    "## Define interactions"
   ]
  },
  {
   "cell_type": "code",
   "execution_count": null,
   "metadata": {},
   "outputs": [],
   "source": [
    "# Define helper functions to swap the coordinate ordering.\n",
    "def swap_coordinate_xy_for_location(coord):\n",
    "    return (coord[1],coord[0])\n",
    "\n",
    "def swap_coordinate_xy_for_list(coord_list):\n",
    "    return [swap_coordinate_xy_for_location(coord) for coord in coord_list]  \n",
    "\n",
    "def update_roi_layer(map_reference):    \n",
    "    coord_list_xy = get_roi_polygon()['coordinates'][0]\n",
    "    coord_list_yx = swap_coordinate_xy_for_list(coord_list_xy)\n",
    "    \n",
    "    roi_layer = ipyleaflet.Polygon(\n",
    "        name='TEST update ROI Polygon',\n",
    "        locations=coord_list_yx,\n",
    "        weight=3,\n",
    "        color='#F00',\n",
    "        opacity=0.8,\n",
    "        fill_opacity=0.1,\n",
    "        fill_color='#F00'\n",
    "    )\n",
    "    roi_layer_group.clear_layers()\n",
    "    roi_layer_group.add_layer(roi_layer)"
   ]
  },
  {
   "cell_type": "code",
   "execution_count": null,
   "metadata": {},
   "outputs": [],
   "source": [
    "def get_roi_polygon():\n",
    "    center_marker_xy = swap_coordinate_xy_for_location(center_marker.location)\n",
    "    centroid = ee.Geometry.Point(center_marker_xy)\n",
    "    buffered = centroid.buffer(roi_dimension.value).bounds()\n",
    "    return buffered.getInfo() "
   ]
  },
  {
   "cell_type": "code",
   "execution_count": null,
   "metadata": {},
   "outputs": [],
   "source": [
    "def get_composite_image():\n",
    "    with out:\n",
    "        print('DEBUG: starting get_composite_image()')\n",
    "        \n",
    "    start_date = start_datepicker.value\n",
    "    interval_length = interval_length_dropdown.value\n",
    "    num_intervals = num_intervals_slider.value\n",
    "        \n",
    "    base_collection = get_base_collection()\n",
    "    end_date = start_date + datetime.timedelta(days=num_intervals*interval_length)\n",
    "    \n",
    "    with out:\n",
    "        print('DEBUG: start_date =', start_date)\n",
    "        print('DEBUG: num_intervals =', num_intervals)\n",
    "        print('DEBUG: interval_length =', interval_length)\n",
    "    \n",
    "    # Create Earth Engine objects.\n",
    "    ee_start_date = ee.Date(start_date.isoformat())\n",
    "    ee_end_date = ee.Date(end_date.isoformat())\n",
    "    \n",
    "    return base_collection.filterDate(ee_start_date, ee_end_date).median()"
   ]
  },
  {
   "cell_type": "code",
   "execution_count": null,
   "metadata": {},
   "outputs": [],
   "source": [
    "def get_image_collection():\n",
    "\n",
    "#     with out:\n",
    "#         print('DEBUG: starting get_image_collection()')\n",
    "    \n",
    "    # Get filter values from the UI widgets.\n",
    "    roi = get_roi_polygon()\n",
    "    start_date = start_datepicker.value\n",
    "    interval_length = interval_length_dropdown.value\n",
    "    num_intervals = num_intervals_slider.value\n",
    "    \n",
    "    base_collection = get_base_collection()\n",
    "    \n",
    "    ee_image_list = []\n",
    "    for i in range(num_intervals):\n",
    "        interval_start_date = start_date + datetime.timedelta(days=i*interval_length)\n",
    "        interval_end_date = interval_start_date + datetime.timedelta(days=interval_length)   \n",
    "        # Create Earth Engine objects.\n",
    "        ee_start_date = ee.Date(interval_start_date.isoformat())\n",
    "        ee_end_date = ee.Date(interval_end_date.isoformat())\n",
    "        \n",
    "        interval_collection = (\n",
    "            base_collection\n",
    "                .filterDate(ee_start_date, ee_end_date)\n",
    "                .filterBounds(roi)\n",
    "        )\n",
    "        \n",
    "        interval_image = interval_collection.mosaic()\n",
    "        # Set metadata on the image.\n",
    "        interval_image = (\n",
    "            interval_image.set({'system:time_start':ee_start_date.millis()})\n",
    "                          .set({'system:time_end':ee_end_date.millis()})\n",
    "        )\n",
    "        ee_image_list.append(interval_image)\n",
    "            \n",
    "    return ee.ImageCollection.fromImages(ee_image_list)"
   ]
  },
  {
   "cell_type": "code",
   "execution_count": null,
   "metadata": {},
   "outputs": [],
   "source": [
    "def get_interval_list():\n",
    "    start_date = start_datepicker.value\n",
    "    interval_length = interval_length_dropdown.value\n",
    "    num_intervals = num_intervals_slider.value\n",
    "    \n",
    "#     with out:\n",
    "#         print('DEBUG: starting get_interval_list()')\n",
    "        \n",
    "    interval_list = []\n",
    "    for i in range(num_intervals):\n",
    "        interval_start_date = start_date + datetime.timedelta(days=i*interval_length)\n",
    "        interval_end_date = interval_start_date + datetime.timedelta(days=interval_length)\n",
    "        interval_list.append({'start_date':interval_start_date, 'end_date':interval_end_date})\n",
    "    return interval_list"
   ]
  },
  {
   "cell_type": "code",
   "execution_count": null,
   "metadata": {},
   "outputs": [],
   "source": [
    "def update_mosaic_layer(map_reference):\n",
    "\n",
    "#     with out:\n",
    "#         print('DEBUG starting update_mosaic_layer()')\n",
    "#         print('Total images = {0}'.format(get_image_collection().size().getInfo()))\n",
    "        \n",
    "    mosaic_tilelayer = ipyleaflet.TileLayer(\n",
    "        url=GetTileLayerUrl(\n",
    "            get_composite_image().visualize(**get_vis_params())\n",
    "        ),\n",
    "        attribution='Map tiles by <a href=\"http://earthengine.google.com/\">Earth Engine</a>.'\n",
    "    )\n",
    "    mosaic_layer_group.clear_layers()\n",
    "    mosaic_layer_group.add_layer(mosaic_tilelayer)"
   ]
  },
  {
   "cell_type": "code",
   "execution_count": null,
   "metadata": {},
   "outputs": [],
   "source": [
    "# Define the actions performed when the marker moves.\n",
    "def center_marker_on_move(change):\n",
    "#     with out:\n",
    "#         print('DEBUG starting center_marker_on_move()')\n",
    "    update_roi_layer(map1)\n",
    "center_marker.unobserve_all()\n",
    "center_marker.observe(center_marker_on_move, names='location')"
   ]
  },
  {
   "cell_type": "code",
   "execution_count": null,
   "metadata": {},
   "outputs": [],
   "source": [
    "# Define the actions performed when the dataset dropdown has changed.\n",
    "def dataset_dropdown_on_change(change):\n",
    "#     with out:\n",
    "#         print('DEBUG starting dataset_dropdown_on_change()')\n",
    "    update_mosaic_layer(map1)\n",
    "dataset_dropdown.unobserve_all()\n",
    "dataset_dropdown.observe(dataset_dropdown_on_change, names='index')"
   ]
  },
  {
   "cell_type": "code",
   "execution_count": null,
   "metadata": {},
   "outputs": [],
   "source": [
    "# Define the actions performed when the starting date is changed.\n",
    "def start_datepicker_on_change(change):\n",
    "#     with out:\n",
    "#         print('DEBUG starting start_datepicker_on_change()')\n",
    "#         print('start_datepicker = {0}'.format(start_datepicker.value))\n",
    "    update_roi_layer(map1)\n",
    "    update_mosaic_layer(map1)\n",
    "start_datepicker.unobserve_all()\n",
    "start_datepicker.observe(start_datepicker_on_change, names='value')"
   ]
  },
  {
   "cell_type": "code",
   "execution_count": null,
   "metadata": {},
   "outputs": [],
   "source": [
    "# Define the actions performed when the ROI size is changed.\n",
    "def roi_dimension_on_change(change):\n",
    "#     with out:\n",
    "#         print('DEBUG starting roi_dimension_on_change()')\n",
    "    update_roi_layer(map1)\n",
    "\n",
    "roi_dimension.unobserve_all()\n",
    "roi_dimension.observe(roi_dimension_on_change, names='value')"
   ]
  },
  {
   "cell_type": "code",
   "execution_count": null,
   "metadata": {},
   "outputs": [],
   "source": [
    "# Define the actions performed when the number of intervals has changed.\n",
    "def num_intervals_on_change(change):\n",
    "    with out:\n",
    "        print('DEBUG starting num_intervals_on_change()')\n",
    "        #print('num_intervals_slider.value = {0}'.format(num_intervals_slider.value))\n",
    "#     update_roi_layer(map1)\n",
    "    update_mosaic_layer(map1)\n",
    "\n",
    "num_intervals_slider.unobserve_all()\n",
    "num_intervals_slider.observe(num_intervals_on_change, names='value')"
   ]
  },
  {
   "cell_type": "code",
   "execution_count": null,
   "metadata": {},
   "outputs": [],
   "source": [
    "# Define the actions performed when the interval length has changed.\n",
    "def interval_length_on_change(change):\n",
    "    with out:\n",
    "        print('DEBUG starting num_intervals_on_change()')\n",
    "        #print('interval_length = {0}'.format(interval_length_dropdown.value))\n",
    "#     update_roi_layer(map1)\n",
    "    update_mosaic_layer(map1)\n",
    "\n",
    "interval_length_dropdown.unobserve_all()\n",
    "interval_length_dropdown.observe(interval_length_on_change, names='value')"
   ]
  },
  {
   "cell_type": "markdown",
   "metadata": {},
   "source": [
    "Initialize the overlay layers."
   ]
  },
  {
   "cell_type": "code",
   "execution_count": null,
   "metadata": {},
   "outputs": [],
   "source": [
    "update_roi_layer(map1)\n",
    "update_mosaic_layer(map1)"
   ]
  },
  {
   "cell_type": "markdown",
   "metadata": {},
   "source": [
    "# Building a (time) series"
   ]
  },
  {
   "cell_type": "code",
   "execution_count": null,
   "metadata": {},
   "outputs": [],
   "source": [
    "import os\n",
    "output_directory = 'output'\n",
    "if not os.path.exists(output_directory):\n",
    "    os.makedirs(output_directory)"
   ]
  },
  {
   "cell_type": "code",
   "execution_count": null,
   "metadata": {},
   "outputs": [],
   "source": [
    "interval_list = get_interval_list()"
   ]
  },
  {
   "cell_type": "code",
   "execution_count": null,
   "metadata": {},
   "outputs": [],
   "source": [
    "sample_interval = interval_list[1]\n",
    "sample_interval"
   ]
  },
  {
   "cell_type": "code",
   "execution_count": null,
   "metadata": {},
   "outputs": [],
   "source": [
    "def create_mosaic_image(time_interval, projection):\n",
    "    start_datetime = time_interval['start_date']\n",
    "    end_datetime = time_interval['end_date']\n",
    "    \n",
    "    ee_start_date = ee.Date(start_datetime.isoformat())\n",
    "    ee_end_date = ee.Date(end_datetime.isoformat())\n",
    "        \n",
    "    base_collection = get_base_collection()\n",
    "    roi = get_roi_polygon()\n",
    "    interval_collection = (\n",
    "        base_collection\n",
    "            .filterDate(ee_start_date, ee_end_date)\n",
    "            .filterBounds(roi)\n",
    "    )\n",
    "    interval_image = interval_collection.mosaic().clip(roi)\n",
    "    \n",
    "#     # Set the projection to match the projection of the first image in the base collection.\n",
    "#     projection = ee.Image(base_collection.filterBounds(roi).first()).projection()\n",
    "    interval_image = interval_image.reproject(projection)\n",
    "\n",
    "    # Return an empty image if the interval collection is empty.\n",
    "    interval_image = ee.Image(ee.Algorithms.If(\n",
    "        interval_collection.size().gt(0),\n",
    "        interval_image,\n",
    "        ee.Image().rename('HV')\n",
    "    ))\n",
    "    \n",
    "    interval_image = (\n",
    "        interval_image.set({'system:time_start':ee_start_date.millis()})\n",
    "                      .set({'system:time_end':ee_end_date.millis()})\n",
    "    )\n",
    "    \n",
    "    return interval_image"
   ]
  },
  {
   "cell_type": "code",
   "execution_count": null,
   "metadata": {},
   "outputs": [],
   "source": [
    "# Test it out on a single image.\n",
    "test_image = create_mosaic_image(sample_interval, 'EPSG:4326')\n",
    "roi = get_roi_polygon()\n",
    "from IPython.display import Image\n",
    "test_url = test_image.visualize(**get_vis_params()).getThumbUrl({\n",
    "    'region':get_roi_polygon()\n",
    "})\n",
    "Image(url=test_url, embed=True, format='png')"
   ]
  },
  {
   "cell_type": "code",
   "execution_count": null,
   "metadata": {},
   "outputs": [],
   "source": [
    "import PIL.Image\n",
    "import PIL.ImageDraw\n",
    "import PIL.ImageFont\n",
    "import requests\n",
    "\n",
    "def annotate_image(image_url, date_string, outfile):\n",
    "   \n",
    "    # Create a base image, from the Earth Engine Thumbnail URL.\n",
    "    base_ee = PIL.Image.open(requests.get(image_url, stream=True).raw).convert('RGBA')\n",
    "\n",
    "    # Create a background image.\n",
    "    background = PIL.Image.new('RGBA', base_ee.size, (128,128,128,255))\n",
    "    \n",
    "    # make a blank image for the text, initialized to transparent text color\n",
    "    txt = PIL.Image.new('RGBA', base_ee.size, (255,255,255,0))\n",
    "    # Get a font.\n",
    "    # Additional fonts available on this server can be found by running the following in a terminal:\n",
    "    # find / -name *.ttf\n",
    "    text_size = 30\n",
    "    fnt = PIL.ImageFont.truetype('/usr/share/fonts/truetype/liberation/LiberationMono-Bold.ttf', text_size)\n",
    "    # Get a drawing context.\n",
    "    d = PIL.ImageDraw.Draw(txt)\n",
    "    # Draw text. For date formatting codes see:\n",
    "    # https://docs.python.org/3/library/datetime.html#strftime-and-strptime-behavior\n",
    "    #date_string = '{:%Y-%m-%d}'.format(start_time)\n",
    "    margin = 10\n",
    "    d.text((margin, margin), date_string, font=fnt, fill=(255,0,0,255))\n",
    "    d.text((margin, margin+text_size), 'ESIP rocks!', font=fnt, fill=(255,0,0,255))\n",
    "    \n",
    "    out_image = background\n",
    "    # Add the EE data.\n",
    "    out_image = PIL.Image.alpha_composite(out_image, base_ee)\n",
    "    # Add the text annotation.\n",
    "    out_image = PIL.Image.alpha_composite(out_image, txt)\n",
    "\n",
    "    out_image.save(outfile, format='PNG')\n",
    "\n",
    "    return out_image"
   ]
  },
  {
   "cell_type": "code",
   "execution_count": null,
   "metadata": {},
   "outputs": [],
   "source": [
    "date_string = ee.Date(test_image.get('system:time_start')).format('YYYY-MM-dd').getInfo()\n",
    "out_image = annotate_image(test_url, date_string, 'test.png')\n",
    "display(out_image)"
   ]
  },
  {
   "cell_type": "markdown",
   "metadata": {},
   "source": [
    "# Testing out a series\n",
    "\n",
    "This section will demonstrate outputing an image time series for the specified location, time interval, and image collection."
   ]
  },
  {
   "cell_type": "code",
   "execution_count": null,
   "metadata": {},
   "outputs": [],
   "source": [
    "import glob\n",
    "\n",
    "# Remove previously saved images.\n",
    "for filename in glob.glob('output/*.png'):\n",
    "    os.remove(filename)"
   ]
  },
  {
   "cell_type": "code",
   "execution_count": null,
   "metadata": {},
   "outputs": [],
   "source": [
    "roi = get_roi_polygon()\n",
    "\n",
    "# Set the projection to match the projection of the first image.\n",
    "first_image_projection = (\n",
    "    ee.Image(\n",
    "        get_base_collection()\n",
    "            .filterDate(ee.Date(interval_list[0]['start_date'].isoformat()), ee.Date('2100'))\n",
    "            .filterBounds(roi)\n",
    "            .first()\n",
    "    ).projection()\n",
    ")\n",
    "\n",
    "image_no = 0\n",
    "for interval in interval_list:\n",
    "    image_no += 1\n",
    "    test_image = create_mosaic_image(interval, first_image_projection)\n",
    "    test_url = test_image.visualize(**get_vis_params()).getThumbUrl({\n",
    "        'region':get_roi_polygon()\n",
    "    })\n",
    "    date_string = ee.Date(test_image.get('system:time_start')).format('YYYY-MM-dd').getInfo()\n",
    "    outfile_name = '{0}/img{1:03d}.png'.format(output_directory, image_no)\n",
    "    out_image = annotate_image(test_url, date_string, outfile_name)\n",
    "    display(out_image)"
   ]
  },
  {
   "cell_type": "markdown",
   "metadata": {},
   "source": [
    "## Create an animated GIF."
   ]
  },
  {
   "cell_type": "code",
   "execution_count": null,
   "metadata": {},
   "outputs": [],
   "source": [
    "import imageio\n",
    "\n",
    "gif_images = []\n",
    "filenames = sorted(glob.glob('output/img???.png'))\n",
    "for filename in filenames:\n",
    "    gif_images.append(imageio.imread(filename))\n",
    "imageio.mimsave('output/movie.gif', gif_images, 'GIF', duration=0.5)"
   ]
  },
  {
   "cell_type": "markdown",
   "metadata": {},
   "source": [
    "## Create an MPEG video."
   ]
  },
  {
   "cell_type": "code",
   "execution_count": null,
   "metadata": {},
   "outputs": [],
   "source": [
    "%%bash  \n",
    "ffmpeg -r 1 \\\n",
    "    -i output/img%03d.png \\\n",
    "    -vcodec mpeg4 \\\n",
    "    -y output/out.mp4"
   ]
  },
  {
   "cell_type": "code",
   "execution_count": null,
   "metadata": {},
   "outputs": [],
   "source": [
    "print('Done!')"
   ]
  },
  {
   "cell_type": "code",
   "execution_count": null,
   "metadata": {},
   "outputs": [],
   "source": []
  }
 ],
 "metadata": {
  "kernelspec": {
   "display_name": "Python 3",
   "language": "python",
   "name": "python3"
  },
  "language_info": {
   "codemirror_mode": {
    "name": "ipython",
    "version": 3
   },
   "file_extension": ".py",
   "mimetype": "text/x-python",
   "name": "python",
   "nbconvert_exporter": "python",
   "pygments_lexer": "ipython3",
   "version": "3.6.5"
  }
 },
 "nbformat": 4,
 "nbformat_minor": 2
}
